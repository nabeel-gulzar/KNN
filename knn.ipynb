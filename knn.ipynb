{
  "nbformat": 4,
  "nbformat_minor": 0,
  "metadata": {
    "kernelspec": {
      "display_name": "Python 3",
      "language": "python",
      "name": "python3"
    },
    "language_info": {
      "codemirror_mode": {
        "name": "ipython",
        "version": 3
      },
      "file_extension": ".py",
      "mimetype": "text/x-python",
      "name": "python",
      "nbconvert_exporter": "python",
      "pygments_lexer": "ipython3",
      "version": "3.6.9"
    },
    "colab": {
      "name": "knn.ipynb",
      "provenance": [],
      "collapsed_sections": [],
      "include_colab_link": true
    }
  },
  "cells": [
    {
      "cell_type": "markdown",
      "metadata": {
        "id": "view-in-github",
        "colab_type": "text"
      },
      "source": [
        "<a href=\"https://colab.research.google.com/github/nabeel-gulzar/k-nearest-neighbors/blob/master/knn.ipynb\" target=\"_parent\"><img src=\"https://colab.research.google.com/assets/colab-badge.svg\" alt=\"Open In Colab\"/></a>"
      ]
    },
    {
      "cell_type": "code",
      "metadata": {
        "id": "5efHSYmTeDj8"
      },
      "source": [
        "import csv\n",
        "import time\n",
        "from math import sqrt, floor\n",
        "from random import randint\n",
        "import pandas as pd\n",
        "import numpy as np\n",
        "import re, string\n",
        "from collections import Counter\n",
        "from itertools import dropwhile\n",
        "from scipy.spatial import distance\n",
        "import matplotlib.pyplot as plt\n",
        "from sklearn.neighbors import KNeighborsClassifier\n",
        "from sklearn.metrics import accuracy_score\n",
        "from sklearn.metrics import classification_report\n",
        "from sklearn.metrics import confusion_matrix\n",
        "from sklearn.metrics import precision_recall_fscore_support\n",
        "from gensim.models import KeyedVectors"
      ],
      "execution_count": null,
      "outputs": []
    },
    {
      "cell_type": "markdown",
      "metadata": {
        "id": "sqRJwi-VeDj9"
      },
      "source": [
        "<h1>Preprocessing and Data Preparation</h1>\n",
        "<h2>This Part of Code is Shared in all Parts of Assignment</h2>\n"
      ]
    },
    {
      "cell_type": "code",
      "metadata": {
        "id": "aDYp28ZLeDj-"
      },
      "source": [
        "garbage_words_re = r\"(@|#|http|https)[();:',.\\/@#$%*+!`^_A-Za-z0-9]*|[();:',.\\/@#$%*+!`^_\\d]|\\\"\"\n",
        "test_ks = [1,3,5,7,10]\n",
        "train_csv_path = 'data/train/train.csv'\n",
        "test_csv_path = 'data/test/test.csv'\n",
        "x_axis_labels=[str(k) for k in test_ks]\n",
        "x_axis_groups=['Accuracy', 'Precision', 'Recall', 'F1']\n",
        "preprocessed_embedding_path = 'data/GoogleNews-vectors-negative300.bin.gz'"
      ],
      "execution_count": null,
      "outputs": []
    },
    {
      "cell_type": "code",
      "metadata": {
        "id": "6Z8AXfgAeDj-"
      },
      "source": [
        "def remove_stopwords(string, stopwords):\n",
        "    \"\"\"\n",
        "    removes all the stopwords from the given string\n",
        "    Params:\n",
        "    string - string from which to remove stopwords\n",
        "    stopwords - string of stopwords separated by space\n",
        "    Returns:\n",
        "    string without the stopwords\n",
        "    \"\"\"\n",
        "    return ' '.join(['' if word in stopwords else word for word in string.split()])\n",
        "\n",
        "def generate_vocab(tweets, stopwords):\n",
        "    \"\"\"\n",
        "    generates a list of vocabulary\n",
        "    Params:\n",
        "    tweets - a list of tweets (string) that is the basis of vocabulary\n",
        "    stopwords - string of stopwords separated by space\n",
        "    Returns:\n",
        "    a list of vocabulary\n",
        "    \"\"\"\n",
        "    vocab = []\n",
        "    text = ' '.join(tweets)\n",
        "    text = text.lower()\n",
        "    if len(stopwords):\n",
        "        text = remove_stopwords(text, stopwords)\n",
        "    text = re.sub(garbage_words_re, '', text)\n",
        "    text = text.split()\n",
        "    vocab = Counter(text)\n",
        "#    if args['remove_singles']:\n",
        "#        for k, c in dropwhile(lambda item: item[1]>1, vocab.most_common()):\n",
        "#            del vocab[k]\n",
        "    return vocab\n",
        "\n",
        "def tokenize(text, stopwords):\n",
        "    \"\"\"\n",
        "    tokenizes the string after applying preprocessing\n",
        "    Params:\n",
        "    text - string to tokenize\n",
        "    stopwords - string of stopwords separated by space\n",
        "    Returns:\n",
        "    list of tokens (words)\n",
        "    \"\"\"\n",
        "    text = text.lower()\n",
        "    if len(stopwords):\n",
        "        text = remove_stopwords(text, stopwords)\n",
        "    text = re.sub(garbage_words_re, '', text)\n",
        "    words = text.split()\n",
        "    return words"
      ],
      "execution_count": null,
      "outputs": []
    },
    {
      "cell_type": "code",
      "metadata": {
        "id": "I2QbwRJueDj-"
      },
      "source": [
        "#Label = { 'positive': 1, 'negative': -1, 'neutral': 0 }\n",
        "#labels = [-1, 0, 1]\n",
        "def create_bow(tweets, labels, vocabulary, stopwords):\n",
        "    \"\"\"\n",
        "    creates a bag of word matrix\n",
        "    Params:\n",
        "    tweets - list of tweets\n",
        "    labels - a list of labels\n",
        "    vocabulary - list of vocabulary words\n",
        "    stopwords - string of stopwords separated by space\n",
        "    Returns:\n",
        "    bag of words matrix\n",
        "    \"\"\"\n",
        "    vocabulary = list(vocabulary)\n",
        "    vocab_size = len(vocabulary)\n",
        "    sample_size = len(tweets)\n",
        "    data_x = np.zeros((sample_size, vocab_size))\n",
        "    for i, sample in enumerate(tweets):\n",
        "        for word in tokenize(sample, stopwords):\n",
        "            try:\n",
        "                word_index = vocabulary.index(word)\n",
        "                data_x[i][word_index] += 1\n",
        "            except:\n",
        "                pass\n",
        "    return data_x, [l for l in labels]"
      ],
      "execution_count": null,
      "outputs": []
    },
    {
      "cell_type": "code",
      "metadata": {
        "id": "LopUBjSmeDj-"
      },
      "source": [
        "def compute_distance_matrix(training_x, test_x):\n",
        "    \"\"\"\n",
        "    computes distance matrix using euclidean distance\n",
        "    Params:\n",
        "    training_x - feature matrix of training data\n",
        "    test_x - feature matrix of test data\n",
        "    Returns:\n",
        "    distance matrix (Test samples x Train samples)\n",
        "    \"\"\"\n",
        "    return distance.cdist(test_x, training_x, 'euclidean')"
      ],
      "execution_count": null,
      "outputs": []
    },
    {
      "cell_type": "code",
      "metadata": {
        "id": "EZHEEEGDeDj-"
      },
      "source": [
        "def divide(lst, l, r):       \n",
        "    x = lst[r] \n",
        "    i = l \n",
        "    for j in range(l, r): \n",
        "        if lst[j] <= x: \n",
        "            lst[i], lst[j] = lst[j], lst[i] \n",
        "            i += 1              \n",
        "    lst[i], lst[r] = lst[r], lst[i] \n",
        "    return i \n",
        "\n",
        "def quick_select(lst, l, r, k): \n",
        "    if (k > 0 and k <= r - l + 1): \n",
        "        index = divide(lst, l, r) \n",
        "        if (index - l == k - 1): \n",
        "            return lst[index] \n",
        "        if (index - l > k - 1): \n",
        "            return quick_select(lst, l, index - 1, k) \n",
        "        return quick_select(lst, index + 1, r, k - index + l - 1) \n",
        "    return 999999\n",
        "\n",
        "def get_kth_smallest(lst, k):\n",
        "    n = len(lst) \n",
        "    return quick_select(lst, 0, n - 1, k)\n",
        "\n",
        "def get_k_nearest_indexes(distance_vector, k):\n",
        "    \"\"\"\n",
        "    generator that generates the indexes of the k nearest samples of train_i in train vector\n",
        "    Params:\n",
        "    distance_vector - a vector of distance between a specific test sample and all training samples\n",
        "    k - number of nearest neighbors\n",
        "    Returns:\n",
        "    list of k indexes in training samples that are nearest\n",
        "    \"\"\"\n",
        "    temp_distance = np.array(distance_vector)\n",
        "    kth_smallest = get_kth_smallest(temp_distance, k)\n",
        "    for i, d in enumerate(distance_vector):\n",
        "        if d <= kth_smallest:\n",
        "            yield i\n",
        "\n",
        "def get_mod(lst):\n",
        "    \"\"\"\n",
        "    returns mod of the list can be more than one\n",
        "    Params:\n",
        "    lst - list on which mod needs to be computed\n",
        "    Returns:\n",
        "    mod of the list (list)\n",
        "    \"\"\"\n",
        "    label_counter = Counter(lst)\n",
        "    max_count = label_counter.most_common(1)[0][1]\n",
        "    return [k for k, c in label_counter.items() if c == max_count]\n",
        "    \n",
        "def assign_label(distance_matrix, training_labels, k):\n",
        "    \"\"\"\n",
        "    computes label for a particular test example backs off to 1 if more that one label\n",
        "    if on k=1 is still not clear. use random label from nearest neighbors\n",
        "    Params:\n",
        "    distance_matrix - matrix containing distance between test and training examples\n",
        "    Returns:\n",
        "    label for the test sample\n",
        "    \"\"\"\n",
        "    k_nearest_labels = [training_labels[i] for i in get_k_nearest_indexes(distance_matrix, k)]\n",
        "    mod = get_mod(k_nearest_labels)\n",
        "    if len(mod) > 1:\n",
        "        if k == 1:\n",
        "            return mod[randint(0, len(mod) - 1)]\n",
        "        return assign_label(distance_matrix, training_labels, k-1)\n",
        "    return mod[0]\n",
        "\n",
        "def predict(distance_matrix, training_y, k):\n",
        "    \"\"\"\n",
        "    predicts labels for a list of training samples\n",
        "    Params:\n",
        "    distance_matrix - matrix contaning distance between training and test samples\n",
        "    training_y - true labels vector\n",
        "    k - k for nearest neighbors\n",
        "    Returns:\n",
        "    vector of predicted labels\n",
        "    \"\"\"\n",
        "    test_size = distance_matrix.shape[0]\n",
        "    return [assign_label(distance_matrix[test_i], training_y, k) for test_i in range(test_size)]\n",
        "\n",
        "def generate_confusion_matrix(gold, prediction, labels):\n",
        "    \"\"\"\n",
        "    generates a confusion matrix\n",
        "    Params:\n",
        "    gold - vector of true labels\n",
        "    predicted - vector of predicted labels\n",
        "    labels: list of distinct labels\n",
        "    Returns:\n",
        "    confusion matrix with shape (label count X label count)\n",
        "    \"\"\"\n",
        "    if len(gold) != len(prediction):\n",
        "        print('label arrays should have same size')\n",
        "        return\n",
        "    label_count = len(labels)\n",
        "    cm = np.zeros((label_count, label_count))\n",
        "    for i in range(len(prediction)):\n",
        "        cm[labels.index(prediction[i])][labels.index(gold[i])] += 1\n",
        "    return cm"
      ],
      "execution_count": null,
      "outputs": []
    },
    {
      "cell_type": "code",
      "metadata": {
        "id": "je3Q2VQEeDj-"
      },
      "source": [
        "def compute_macro_average(prediction, gold, labels):\n",
        "    \"\"\"\n",
        "    computes macro average (precision, recall, f1) confusion_matrix and accuracy\n",
        "    Params:\n",
        "    prediction - vector of predicted labels\n",
        "    gold - vector of true labels\n",
        "    labels: list of distinct labels\n",
        "    Returns:\n",
        "    dictionary of {precision, recall, f1, confusion_matrix, accuracy}\n",
        "    \"\"\"\n",
        "    if len(gold) != len(prediction):\n",
        "        print('label arrays should have same size')\n",
        "        return\n",
        "    label_count = len(labels)\n",
        "    cm = generate_confusion_matrix(test_y, prediction, labels)\n",
        "    precision = 0\n",
        "    recall = 0\n",
        "    accuracy = 0\n",
        "    for i in range(label_count):\n",
        "        negatives = [n for n in range(label_count) if n != i]\n",
        "        tp = cm[i][i]\n",
        "        fn = np.array([cm[j][i] for j in negatives]).sum()\n",
        "        fp = np.array([cm[i][j] for j in negatives]).sum()\n",
        "        tn = np.array([np.array([cm[j][k] for j in negatives]).sum() for k in negatives]).sum()\n",
        "\n",
        "        precision += (tp/(tp+fp))\n",
        "        recall += (tp/(tp+fn))\n",
        "        accuracy += tp\n",
        "    accuracy = accuracy/len(prediction)\n",
        "    macro_avg_precision = precision/label_count\n",
        "    macro_avg_recall = recall/label_count\n",
        "    f1_score = (2*macro_avg_precision*macro_avg_recall)/(macro_avg_precision+macro_avg_recall)\n",
        "    return {'f1': f1_score,\n",
        "            'precision': macro_avg_precision,\n",
        "            'recall': macro_avg_recall,\n",
        "            'accuracy': accuracy,\n",
        "            'confusion_matrix': cm}"
      ],
      "execution_count": null,
      "outputs": []
    },
    {
      "cell_type": "code",
      "metadata": {
        "id": "omlNjeqgeDj-"
      },
      "source": [
        "def plot_performance(a, b, c, d, labels, groups):\n",
        "    \"\"\"\n",
        "    plots multibar chart with k on x-axis and performance measures of y axis\n",
        "    Params:\n",
        "    a, b, c, d - precision, recall, f1, accuracy (in order with groups)\n",
        "    labels: list of distinct labels\n",
        "    Returns:\n",
        "    \"\"\"\n",
        "    ind = np.arange(len(labels))\n",
        "    width = 0.2\n",
        "\n",
        "    fig, ax = plt.subplots()\n",
        "    fig.set_size_inches(12, 12)\n",
        "    bar1 = ax.bar(ind - (1.5*width), a, width, label=groups[0])\n",
        "    bar2 = ax.bar(ind - (width/2), b, width, label=groups[1])\n",
        "    bar3 = ax.bar(ind + (width/2), c, width, label=groups[2])\n",
        "    bar4 = ax.bar(ind + (1.5*width), d, width, label=groups[3])\n",
        "\n",
        "    ax.set_ylabel('Performance')\n",
        "    ax.set_xlabel('K')\n",
        "    ax.set_title('Performance Analysis of KNN with respective Ks')\n",
        "    ax.set_xticks(ind)\n",
        "    ax.set_xticklabels(labels)\n",
        "    ax.set_ylim([0,1])\n",
        "    ax.legend()\n",
        "\n",
        "    def annotate(rects):\n",
        "        \"\"\"Attach a text label above each bar in *rects*, displaying its height.\"\"\"\n",
        "        for rect in rects:\n",
        "            height = rect.get_height()\n",
        "            ax.annotate('{:.2f}'.format(height),\n",
        "                        xy=(rect.get_x() + rect.get_width() / 2, height),\n",
        "                        xytext=(0, 3),  # 3 points vertical offset\n",
        "                        textcoords=\"offset points\",\n",
        "                        ha='center', va='bottom')\n",
        "    annotate(bar1)\n",
        "    annotate(bar2)\n",
        "    annotate(bar3)\n",
        "    annotate(bar4)\n",
        "    fig.tight_layout()\n",
        "    plt.show()"
      ],
      "execution_count": null,
      "outputs": []
    },
    {
      "cell_type": "code",
      "metadata": {
        "id": "6U9uMXjyeDj-"
      },
      "source": [
        "train_df = pd.read_csv(train_csv_path)\n",
        "test_df = pd.read_csv(test_csv_path)\n",
        "\n",
        "stopwords = []\n",
        "with open('data/stop_words.txt', 'r') as fd:\n",
        "    stopwords = fd.read().split('\\n')"
      ],
      "execution_count": null,
      "outputs": []
    },
    {
      "cell_type": "code",
      "metadata": {
        "id": "PME59cf2eDj-",
        "outputId": "f26f4126-9a4d-4688-c1a2-8f4bd8deb99d"
      },
      "source": [
        "starttime = time.time()\n",
        "vocabulary = generate_vocab(train_df['Tweet'], stopwords)\n",
        "training_x, training_y = create_bow(train_df['Tweet'], train_df['Sentiment'], vocabulary, stopwords)\n",
        "test_x, test_y = create_bow(test_df['Tweet'], test_df['Sentiment'], vocabulary, stopwords)\n",
        "endtime = time.time()\n",
        "print('Time taken to create BOW: {:.2f} seconds'.format(endtime - starttime))"
      ],
      "execution_count": null,
      "outputs": [
        {
          "output_type": "stream",
          "text": [
            "Time taken to create BOW: 3.34 seconds\n"
          ],
          "name": "stdout"
        }
      ]
    },
    {
      "cell_type": "markdown",
      "metadata": {
        "id": "t_gc2efQeDkA"
      },
      "source": [
        "<h1>Part 1</h1>"
      ]
    },
    {
      "cell_type": "code",
      "metadata": {
        "scrolled": true,
        "id": "wy6q72JfeDkA",
        "outputId": "9d1ad7c4-e662-429a-ebe5-d8c60e142991"
      },
      "source": [
        "print('computing distance matrix...')\n",
        "starttime = time.time()\n",
        "distance_matrix = compute_distance_matrix(training_x, test_x)\n",
        "endtime = time.time()\n",
        "print('distance matrix computed in {:.2f} seconds'.format(endtime - starttime))"
      ],
      "execution_count": null,
      "outputs": [
        {
          "output_type": "stream",
          "text": [
            "computing distance matrix...\n",
            "distance matrix computed in 206.69 seconds\n"
          ],
          "name": "stdout"
        }
      ]
    },
    {
      "cell_type": "markdown",
      "metadata": {
        "id": "wA2tW8t3eDkA"
      },
      "source": [
        "<h3>Self Implemented KNN</h3>"
      ]
    },
    {
      "cell_type": "code",
      "metadata": {
        "id": "MTNKVw4jeDkA",
        "outputId": "ee12653e-e11f-4571-b346-5df59c03b607"
      },
      "source": [
        "accuracies = []\n",
        "f1s = []\n",
        "precisions = []\n",
        "recalls = []\n",
        "for k in test_ks:\n",
        "    print('starting prediction for k={}'.format(k))\n",
        "    starttime = time.time()\n",
        "    prediction = predict(distance_matrix, training_y, k)\n",
        "    endtime = time.time()\n",
        "    print('prediction completed in {:.2f} seconds'.format(endtime-starttime))\n",
        "    macro = compute_macro_average(prediction, test_y, ['negative', 'positive', 'neutral'])\n",
        "    accuracy = macro['accuracy']\n",
        "    f1 = macro['f1']\n",
        "    precision = macro['precision']\n",
        "    recall = macro['recall']\n",
        "\n",
        "    accuracies.append(accuracy)\n",
        "    f1s.append(f1)\n",
        "    precisions.append(precision)\n",
        "    recalls.append(recall)\n",
        "    \n",
        "    cm = macro['confusion_matrix']\n",
        "    print('Report For for K={}'.format(k))\n",
        "    print('Confusion Matrix')\n",
        "    print(cm)\n",
        "    print('Accuracy: {:.2f}'.format(accuracy))\n",
        "    print('Precision: {:.2f}'.format(precision))\n",
        "    print('Recall: {:.2f}'.format(recall))\n",
        "    print('F1: {:.2f}\\n'.format(f1))\n",
        "    print('------------------------')"
      ],
      "execution_count": null,
      "outputs": [
        {
          "output_type": "stream",
          "text": [
            "starting prediction for k=1\n",
            "prediction completed in 33.54 seconds\n",
            "Report For for K=1\n",
            "Confusion Matrix\n",
            "[[844.  54.  96.]\n",
            " [285. 323. 160.]\n",
            " [705.  95. 359.]]\n",
            "Accuracy: 0.52\n",
            "Precision: 0.53\n",
            "Recall: 0.58\n",
            "F1: 0.55\n",
            "\n",
            "------------------------\n",
            "starting prediction for k=3\n",
            "prediction completed in 42.73 seconds\n",
            "Report For for K=3\n",
            "Confusion Matrix\n",
            "[[805.  45.  77.]\n",
            " [278. 326. 141.]\n",
            " [751. 101. 397.]]\n",
            "Accuracy: 0.52\n",
            "Precision: 0.54\n",
            "Recall: 0.59\n",
            "F1: 0.57\n",
            "\n",
            "------------------------\n",
            "starting prediction for k=5\n",
            "prediction completed in 49.09 seconds\n",
            "Report For for K=5\n",
            "Confusion Matrix\n",
            "[[745.  39.  61.]\n",
            " [259. 320. 132.]\n",
            " [830. 113. 422.]]\n",
            "Accuracy: 0.51\n",
            "Precision: 0.55\n",
            "Recall: 0.59\n",
            "F1: 0.57\n",
            "\n",
            "------------------------\n",
            "starting prediction for k=7\n",
            "prediction completed in 49.83 seconds\n",
            "Report For for K=7\n",
            "Confusion Matrix\n",
            "[[672.  33.  41.]\n",
            " [236. 314. 120.]\n",
            " [926. 125. 454.]]\n",
            "Accuracy: 0.49\n",
            "Precision: 0.56\n",
            "Recall: 0.59\n",
            "F1: 0.57\n",
            "\n",
            "------------------------\n",
            "starting prediction for k=10\n",
            "prediction completed in 52.97 seconds\n",
            "Report For for K=10\n",
            "Confusion Matrix\n",
            "[[ 610.   25.   35.]\n",
            " [ 210.  299.  110.]\n",
            " [1014.  148.  470.]]\n",
            "Accuracy: 0.47\n",
            "Precision: 0.56\n",
            "Recall: 0.58\n",
            "F1: 0.57\n",
            "\n",
            "------------------------\n"
          ],
          "name": "stdout"
        }
      ]
    },
    {
      "cell_type": "code",
      "metadata": {
        "scrolled": false,
        "id": "xDqMl2y5eDkA",
        "outputId": "26753c10-a9d5-4f6d-d27f-f4c5e5510924"
      },
      "source": [
        "plot_performance(accuracies, precisions, recalls, f1s, x_axis_labels, x_axis_groups)"
      ],
      "execution_count": null,
      "outputs": [
        {
          "output_type": "display_data",
          "data": {
            "image/png": "[encoded data removed]",
            "text/plain": [
              "<Figure size 864x864 with 1 Axes>"
            ]
          },
          "metadata": {
            "tags": [],
            "needs_background": "light"
          }
        }
      ]
    },
    {
      "cell_type": "markdown",
      "metadata": {
        "id": "S5RbnS3heDkA"
      },
      "source": [
        "<h1>Part 2</h1>\n",
        "<h2>sklearn KNN implementation</h2>"
      ]
    },
    {
      "cell_type": "code",
      "metadata": {
        "collapsed": true,
        "id": "WfYe13mHeDkA",
        "outputId": "8472f421-be70-48a6-b6c3-3b50374b489d"
      },
      "source": [
        "accuracies = []\n",
        "f1s = []\n",
        "precisions = []\n",
        "recalls = []\n",
        "for k in test_ks:\n",
        "    knn = KNeighborsClassifier(n_neighbors=k, metric='euclidean')\n",
        "    knn.fit(training_x, training_y)\n",
        "    print('starting prediction for k={}'.format(k))\n",
        "    starttime = time.time()\n",
        "    y_hat = knn.predict(test_x)\n",
        "    endtime = time.time()\n",
        "    print('prediction completed in {:.2f} seconds'.format(endtime-starttime))\n",
        "    accuracy = accuracy_score(test_y, y_hat)\n",
        "    precision, recall, f1, _ = precision_recall_fscore_support(test_y, y_hat, average='macro')\n",
        "    cm = confusion_matrix(test_y, y_hat)\n",
        "    accuracies.append(accuracy)\n",
        "    f1s.append(f1)\n",
        "    precisions.append(precision)\n",
        "    recalls.append(recall)\n",
        "    \n",
        "    print('Report For for K={}'.format(k))\n",
        "    print('Confusion Matrix')\n",
        "    print(cm)\n",
        "    print('Accuracy: {:.2f}'.format(accuracy))\n",
        "    print('Precision: {:.2f}'.format(precision))\n",
        "    print('Recall: {:.2f}'.format(recall))\n",
        "    print('F1: {:.2f}\\n'.format(f1))\n",
        "    \n",
        "    report = classification_report(test_y, y_hat, target_names=['negative', 'neutral', 'positive'])\n",
        "    print('Classification Report')\n",
        "    print(report)"
      ],
      "execution_count": null,
      "outputs": [
        {
          "output_type": "stream",
          "text": [
            "starting prediction for k=1\n",
            "prediction completed in 569.67 seconds\n",
            "Report For for K=1\n",
            "Confusion Matrix\n",
            "[[884 697 253]\n",
            " [116 387 112]\n",
            " [ 64 135 273]]\n",
            "Accuracy: 0.53\n",
            "Precision: 0.53\n",
            "Recall: 0.56\n",
            "F1: 0.51\n",
            "\n",
            "Classification Report\n",
            "              precision    recall  f1-score   support\n",
            "\n",
            "    negative       0.83      0.48      0.61      1834\n",
            "     neutral       0.32      0.63      0.42       615\n",
            "    positive       0.43      0.58      0.49       472\n",
            "\n",
            "    accuracy                           0.53      2921\n",
            "   macro avg       0.53      0.56      0.51      2921\n",
            "weighted avg       0.66      0.53      0.55      2921\n",
            "\n",
            "starting prediction for k=3\n",
            "prediction completed in 624.54 seconds\n",
            "Report For for K=3\n",
            "Confusion Matrix\n",
            "[[955 692 187]\n",
            " [147 356 112]\n",
            " [ 78 126 268]]\n",
            "Accuracy: 0.54\n",
            "Precision: 0.53\n",
            "Recall: 0.56\n",
            "F1: 0.52\n",
            "\n",
            "Classification Report\n",
            "              precision    recall  f1-score   support\n",
            "\n",
            "    negative       0.81      0.52      0.63      1834\n",
            "     neutral       0.30      0.58      0.40       615\n",
            "    positive       0.47      0.57      0.52       472\n",
            "\n",
            "    accuracy                           0.54      2921\n",
            "   macro avg       0.53      0.56      0.52      2921\n",
            "weighted avg       0.65      0.54      0.57      2921\n",
            "\n",
            "starting prediction for k=5\n",
            "prediction completed in 554.39 seconds\n",
            "Report For for K=5\n",
            "Confusion Matrix\n",
            "[[889 736 209]\n",
            " [123 380 112]\n",
            " [ 64 122 286]]\n",
            "Accuracy: 0.53\n",
            "Precision: 0.53\n",
            "Recall: 0.57\n",
            "F1: 0.52\n",
            "\n",
            "Classification Report\n",
            "              precision    recall  f1-score   support\n",
            "\n",
            "    negative       0.83      0.48      0.61      1834\n",
            "     neutral       0.31      0.62      0.41       615\n",
            "    positive       0.47      0.61      0.53       472\n",
            "\n",
            "    accuracy                           0.53      2921\n",
            "   macro avg       0.53      0.57      0.52      2921\n",
            "weighted avg       0.66      0.53      0.56      2921\n",
            "\n",
            "starting prediction for k=7\n",
            "prediction completed in 538.54 seconds\n",
            "Report For for K=7\n",
            "Confusion Matrix\n",
            "[[835 772 227]\n",
            " [102 396 117]\n",
            " [ 41 129 302]]\n",
            "Accuracy: 0.52\n",
            "Precision: 0.54\n",
            "Recall: 0.58\n",
            "F1: 0.52\n",
            "\n",
            "Classification Report\n",
            "              precision    recall  f1-score   support\n",
            "\n",
            "    negative       0.85      0.46      0.59      1834\n",
            "     neutral       0.31      0.64      0.41       615\n",
            "    positive       0.47      0.64      0.54       472\n",
            "\n",
            "    accuracy                           0.52      2921\n",
            "   macro avg       0.54      0.58      0.52      2921\n",
            "weighted avg       0.68      0.52      0.55      2921\n",
            "\n",
            "starting prediction for k=10\n",
            "prediction completed in 549.14 seconds\n",
            "Report For for K=10\n",
            "Confusion Matrix\n",
            "[[848 753 233]\n",
            " [107 379 129]\n",
            " [ 55 116 301]]\n",
            "Accuracy: 0.52\n",
            "Precision: 0.53\n",
            "Recall: 0.57\n",
            "F1: 0.51\n",
            "\n",
            "Classification Report\n",
            "              precision    recall  f1-score   support\n",
            "\n",
            "    negative       0.84      0.46      0.60      1834\n",
            "     neutral       0.30      0.62      0.41       615\n",
            "    positive       0.45      0.64      0.53       472\n",
            "\n",
            "    accuracy                           0.52      2921\n",
            "   macro avg       0.53      0.57      0.51      2921\n",
            "weighted avg       0.66      0.52      0.55      2921\n",
            "\n"
          ],
          "name": "stdout"
        }
      ]
    },
    {
      "cell_type": "code",
      "metadata": {
        "id": "FTWc4vtGeDkB"
      },
      "source": [
        ""
      ],
      "execution_count": null,
      "outputs": []
    },
    {
      "cell_type": "code",
      "metadata": {
        "id": "Cyx-H5kLeDkB",
        "outputId": "0420fcaa-e881-4749-e409-354b97f57f4e"
      },
      "source": [
        "plot_performance(accuracies, precisions, recalls, f1s, x_axis_labels, x_axis_groups)"
      ],
      "execution_count": null,
      "outputs": [
        {
          "output_type": "display_data",
          "data": {
            "image/png": "[encoded data removed]",
            "text/plain": [
              "<Figure size 864x864 with 1 Axes>"
            ]
          },
          "metadata": {
            "tags": [],
            "needs_background": "light"
          }
        }
      ]
    },
    {
      "cell_type": "markdown",
      "metadata": {
        "id": "bioamRj4eDkB"
      },
      "source": [
        "<h1>Part 3</h1>"
      ]
    },
    {
      "cell_type": "code",
      "metadata": {
        "id": "nMYykaI3eDkB"
      },
      "source": [
        "word2vec = KeyedVectors.load_word2vec_format(preprocessed_embedding_path, binary=True)"
      ],
      "execution_count": null,
      "outputs": []
    },
    {
      "cell_type": "code",
      "metadata": {
        "id": "KW6YIwp_eDkB"
      },
      "source": [
        "def create_embedding_matrix(lst, stopwords):\n",
        "    embeddings = []\n",
        "    empty_indexes = []\n",
        "    for i, text in enumerate(lst):\n",
        "        words = [word for word in tokenize(text, stopwords) if word in word2vec.vocab]\n",
        "        if not len(words):\n",
        "            empty_indexes.append(i)\n",
        "            continue\n",
        "        feature_vector = np.mean(word2vec[words], axis=0)\n",
        "        embeddings.append(feature_vector)\n",
        "    return embeddings, empty_indexes\n",
        "train_x_emb, empty_indexes_tr = create_embedding_matrix(train_df['Tweet'], stopwords)\n",
        "test_x_emb, empty_indexes_ts = create_embedding_matrix(test_df['Tweet'], stopwords)"
      ],
      "execution_count": null,
      "outputs": []
    },
    {
      "cell_type": "code",
      "metadata": {
        "id": "4FBnPMImeDkB"
      },
      "source": [
        "training_y = [l for i, l in enumerate(training_y) if i not in empty_indexes_tr]\n",
        "test_y = [l for i, l in enumerate(test_y) if i not in empty_indexes_ts]"
      ],
      "execution_count": null,
      "outputs": []
    },
    {
      "cell_type": "markdown",
      "metadata": {
        "id": "FHhemt3qeDkB"
      },
      "source": [
        "<h3>Self Implemented KNN with word2vec embeddings</h3>"
      ]
    },
    {
      "cell_type": "code",
      "metadata": {
        "id": "_lh_NMRDeDkB",
        "outputId": "7812e67b-e436-4d47-b84a-61524dfdbfb5"
      },
      "source": [
        "print('computing distance matrix...')\n",
        "starttime = time.time()\n",
        "distance_matrix = compute_distance_matrix(train_x_emb, test_x_emb)\n",
        "endtime = time.time()\n",
        "print('distance matrix computed in {:.2f} seconds'.format(endtime - starttime))"
      ],
      "execution_count": null,
      "outputs": [
        {
          "output_type": "stream",
          "text": [
            "computing distance matrix...\n",
            "distance matrix computed in 6.53 seconds\n"
          ],
          "name": "stdout"
        }
      ]
    },
    {
      "cell_type": "code",
      "metadata": {
        "id": "CB_LuF_CeDkB",
        "outputId": "c0f04e79-ae20-4dd2-be53-7ea196f298bb"
      },
      "source": [
        "accuracies = []\n",
        "f1s = []\n",
        "precisions = []\n",
        "recalls = []\n",
        "for k in test_ks:\n",
        "    print('starting prediction for k={}'.format(k))\n",
        "    starttime = time.time()\n",
        "    prediction = predict(distance_matrix, training_y, k)\n",
        "    endtime = time.time()\n",
        "    print('prediction completed in {:.2f} seconds'.format(endtime-starttime))\n",
        "    macro = compute_macro_average(prediction, test_y, ['negative', 'positive', 'neutral'])\n",
        "    accuracy = macro['accuracy']\n",
        "    f1 = macro['f1']\n",
        "    precision = macro['precision']\n",
        "    recall = macro['recall']\n",
        "\n",
        "    accuracies.append(accuracy)\n",
        "    f1s.append(f1)\n",
        "    precisions.append(precision)\n",
        "    recalls.append(recall)\n",
        "    \n",
        "    cm = macro['confusion_matrix']\n",
        "    print('Report For for K={}'.format(k))\n",
        "    print('Confusion Matrix')\n",
        "    print(cm)\n",
        "    print('Accuracy: {:.2f}'.format(accuracy))\n",
        "    print('Precision: {:.2f}'.format(precision))\n",
        "    print('Recall: {:.2f}'.format(recall))\n",
        "    print('F1: {:.2f}\\n'.format(f1))\n",
        "    print('------------------------')\n",
        "plot_performance(accuracies, precisions, recalls, f1s, x_axis_labels, x_axis_groups)"
      ],
      "execution_count": null,
      "outputs": [
        {
          "output_type": "stream",
          "text": [
            "starting prediction for k=1\n",
            "prediction completed in 26.08 seconds\n",
            "Report For for K=1\n",
            "Confusion Matrix\n",
            "[[1549.  166.  298.]\n",
            " [ 122.  241.   85.]\n",
            " [ 162.   65.  227.]]\n",
            "Accuracy: 0.69\n",
            "Precision: 0.60\n",
            "Recall: 0.58\n",
            "F1: 0.59\n",
            "\n",
            "------------------------\n",
            "starting prediction for k=3\n",
            "prediction completed in 27.87 seconds\n",
            "Report For for K=3\n",
            "Confusion Matrix\n",
            "[[1702.  170.  356.]\n",
            " [  60.  258.   69.]\n",
            " [  71.   44.  185.]]\n",
            "Accuracy: 0.74\n",
            "Precision: 0.68\n",
            "Recall: 0.59\n",
            "F1: 0.63\n",
            "\n",
            "------------------------\n",
            "starting prediction for k=5\n",
            "prediction completed in 28.98 seconds\n",
            "Report For for K=5\n",
            "Confusion Matrix\n",
            "[[1750.  180.  401.]\n",
            " [  38.  261.   61.]\n",
            " [  45.   31.  148.]]\n",
            "Accuracy: 0.74\n",
            "Precision: 0.71\n",
            "Recall: 0.58\n",
            "F1: 0.64\n",
            "\n",
            "------------------------\n",
            "starting prediction for k=7\n",
            "prediction completed in 26.95 seconds\n",
            "Report For for K=7\n",
            "Confusion Matrix\n",
            "[[1773.  190.  427.]\n",
            " [  28.  255.   50.]\n",
            " [  32.   27.  133.]]\n",
            "Accuracy: 0.74\n",
            "Precision: 0.73\n",
            "Recall: 0.58\n",
            "F1: 0.64\n",
            "\n",
            "------------------------\n",
            "starting prediction for k=10\n",
            "prediction completed in 27.45 seconds\n",
            "Report For for K=10\n",
            "Confusion Matrix\n",
            "[[1795.  212.  446.]\n",
            " [  19.  239.   51.]\n",
            " [  19.   21.  113.]]\n",
            "Accuracy: 0.74\n",
            "Precision: 0.75\n",
            "Recall: 0.56\n",
            "F1: 0.64\n",
            "\n",
            "------------------------\n"
          ],
          "name": "stdout"
        },
        {
          "output_type": "display_data",
          "data": {
            "image/png": "[encoded data removed]",
            "text/plain": [
              "<Figure size 864x864 with 1 Axes>"
            ]
          },
          "metadata": {
            "tags": [],
            "needs_background": "light"
          }
        }
      ]
    },
    {
      "cell_type": "markdown",
      "metadata": {
        "id": "IBMMuoqdeDkC"
      },
      "source": [
        "<h3>sklearn KNN with word2vec embeddings</h3>"
      ]
    },
    {
      "cell_type": "code",
      "metadata": {
        "scrolled": false,
        "id": "OGRe6NnceDkC",
        "outputId": "95269619-1129-4d3c-d9cf-12155ffa81b7"
      },
      "source": [
        "accuracies = []\n",
        "f1s = []\n",
        "precisions = []\n",
        "recalls = []\n",
        "print(np.array(train_x_emb).shape)\n",
        "print(np.array(test_x_emb).shape)\n",
        "for k in test_ks:\n",
        "    knn = KNeighborsClassifier(n_neighbors=k, metric='euclidean')\n",
        "    knn.fit(train_x_emb, training_y)\n",
        "    print('starting prediction for k={}'.format(k))\n",
        "    starttime = time.time()\n",
        "    y_hat = knn.predict(test_x_emb)\n",
        "    endtime = time.time()\n",
        "    print('prediction completed in {:.2f} seconds'.format(endtime-starttime))\n",
        "    accuracy = accuracy_score(test_y, y_hat)\n",
        "    precision, recall, f1, _ = precision_recall_fscore_support(test_y, y_hat, average='macro')\n",
        "    cm = confusion_matrix(test_y, y_hat)\n",
        "    accuracies.append(accuracy)\n",
        "    f1s.append(f1)\n",
        "    precisions.append(precision)\n",
        "    recalls.append(recall)\n",
        "    \n",
        "    print('Report For for K={}'.format(k))\n",
        "    print('Confusion Matrix')\n",
        "    print(confusion_matrix)\n",
        "    print('Accuracy: {:.2f}'.format(accuracy))\n",
        "    print('Precision: {:.2f}'.format(precision))\n",
        "    print('Recall: {:.2f}'.format(recall))\n",
        "    print('F1: {:.2f}\\n'.format(f1))\n",
        "    \n",
        "    report = classification_report(test_y, y_hat, target_names=['negative', 'neutral', 'positive'])\n",
        "    print('Classification Report')\n",
        "    print(report)\n",
        "    print('-------------------------')\n",
        "plot_performance(accuracies, precisions, recalls, f1s, x_axis_labels, x_axis_groups)"
      ],
      "execution_count": null,
      "outputs": [
        {
          "output_type": "stream",
          "text": [
            "(11645, 300)\n",
            "(2915, 300)\n",
            "starting prediction for k=1\n",
            "prediction completed in 17.22 seconds\n",
            "Report For for K=1\n",
            "Confusion Matrix\n",
            "<function confusion_matrix at 0x7f1241814d08>\n",
            "Accuracy: 0.69\n",
            "Precision: 0.59\n",
            "Recall: 0.56\n",
            "F1: 0.57\n",
            "\n",
            "Classification Report\n",
            "              precision    recall  f1-score   support\n",
            "\n",
            "    negative       0.77      0.85      0.80      1833\n",
            "     neutral       0.48      0.36      0.41       610\n",
            "    positive       0.53      0.49      0.51       472\n",
            "\n",
            "    accuracy                           0.69      2915\n",
            "   macro avg       0.59      0.56      0.57      2915\n",
            "weighted avg       0.67      0.69      0.67      2915\n",
            "\n",
            "-------------------------\n",
            "starting prediction for k=3\n",
            "prediction completed in 17.21 seconds\n",
            "Report For for K=3\n",
            "Confusion Matrix\n",
            "<function confusion_matrix at 0x7f1241814d08>\n",
            "Accuracy: 0.73\n",
            "Precision: 0.69\n",
            "Recall: 0.57\n",
            "F1: 0.60\n",
            "\n",
            "Classification Report\n",
            "              precision    recall  f1-score   support\n",
            "\n",
            "    negative       0.75      0.94      0.83      1833\n",
            "     neutral       0.63      0.28      0.38       610\n",
            "    positive       0.70      0.50      0.58       472\n",
            "\n",
            "    accuracy                           0.73      2915\n",
            "   macro avg       0.69      0.57      0.60      2915\n",
            "weighted avg       0.71      0.73      0.70      2915\n",
            "\n",
            "-------------------------\n",
            "starting prediction for k=5\n",
            "prediction completed in 17.57 seconds\n",
            "Report For for K=5\n",
            "Confusion Matrix\n",
            "<function confusion_matrix at 0x7f1241814d08>\n",
            "Accuracy: 0.74\n",
            "Precision: 0.72\n",
            "Recall: 0.56\n",
            "F1: 0.59\n",
            "\n",
            "Classification Report\n",
            "              precision    recall  f1-score   support\n",
            "\n",
            "    negative       0.74      0.97      0.84      1833\n",
            "     neutral       0.67      0.23      0.34       610\n",
            "    positive       0.75      0.49      0.60       472\n",
            "\n",
            "    accuracy                           0.74      2915\n",
            "   macro avg       0.72      0.56      0.59      2915\n",
            "weighted avg       0.73      0.74      0.69      2915\n",
            "\n",
            "-------------------------\n",
            "starting prediction for k=7\n",
            "prediction completed in 17.49 seconds\n",
            "Report For for K=7\n",
            "Confusion Matrix\n",
            "<function confusion_matrix at 0x7f1241814d08>\n",
            "Accuracy: 0.74\n",
            "Precision: 0.74\n",
            "Recall: 0.56\n",
            "F1: 0.59\n",
            "\n",
            "Classification Report\n",
            "              precision    recall  f1-score   support\n",
            "\n",
            "    negative       0.73      0.97      0.84      1833\n",
            "     neutral       0.70      0.20      0.32       610\n",
            "    positive       0.78      0.51      0.62       472\n",
            "\n",
            "    accuracy                           0.74      2915\n",
            "   macro avg       0.74      0.56      0.59      2915\n",
            "weighted avg       0.73      0.74      0.69      2915\n",
            "\n",
            "-------------------------\n",
            "starting prediction for k=10\n",
            "prediction completed in 17.45 seconds\n",
            "Report For for K=10\n",
            "Confusion Matrix\n",
            "<function confusion_matrix at 0x7f1241814d08>\n",
            "Accuracy: 0.73\n",
            "Precision: 0.75\n",
            "Recall: 0.54\n",
            "F1: 0.57\n",
            "\n",
            "Classification Report\n",
            "              precision    recall  f1-score   support\n",
            "\n",
            "    negative       0.72      0.98      0.83      1833\n",
            "     neutral       0.74      0.17      0.28       610\n",
            "    positive       0.80      0.48      0.60       472\n",
            "\n",
            "    accuracy                           0.73      2915\n",
            "   macro avg       0.75      0.54      0.57      2915\n",
            "weighted avg       0.74      0.73      0.68      2915\n",
            "\n",
            "-------------------------\n"
          ],
          "name": "stdout"
        },
        {
          "output_type": "display_data",
          "data": {
            "image/png": "[encoded data removed]",
            "text/plain": [
              "<Figure size 864x864 with 1 Axes>"
            ]
          },
          "metadata": {
            "tags": [],
            "needs_background": "light"
          }
        }
      ]
    }
  ]
}